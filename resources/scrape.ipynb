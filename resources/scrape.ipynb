{
 "cells": [
  {
   "cell_type": "code",
   "execution_count": 65,
   "metadata": {},
   "outputs": [
    {
     "name": "stdout",
     "output_type": "stream",
     "text": [
      "Today's data has already been scraped.\n"
     ]
    }
   ],
   "source": [
    "import pandas as pd\n",
    "import time\n",
    "from selenium import webdriver\n",
    "from selenium.webdriver.chrome.options import Options\n",
    "from selenium.webdriver.common.by import By\n",
    "from selenium.webdriver.support.ui import WebDriverWait\n",
    "from selenium.webdriver.support import expected_conditions as EC\n",
    "\n",
    "# load in existing data\n",
    "data = pd.read_csv(\"./vaccinations_data.csv\")\n",
    "data.date = pd.to_datetime(data.date)\n",
    "last_date = data.iat[len(data) - 1, 0]\n",
    "\n",
    "# use a headless browser (saves time)\n",
    "chrome_options = Options()\n",
    "chrome_options.add_argument(\"--headless\")\n",
    "chrome_options.add_argument(\"--start-maximized\")\n",
    "\n",
    "# set up the browser\n",
    "driver = webdriver.Chrome(options=chrome_options)\n",
    "driver.get(\"https://www.covid19.act.gov.au/\")\n",
    "\n",
    "# scrape date\n",
    "date_field = WebDriverWait(driver, 10).until(\n",
    "    EC.visibility_of_element_located((By.CLASS_NAME, \"spf-article-card--tabular-subtitle\"))\n",
    ")\n",
    "date_text = date_field.find_element_by_tag_name(\"p\").get_attribute(\"innerText\")\n",
    "date = date_text[date_text.index(\",\") + 2:]\n",
    "date = pd.to_datetime(date, format=\"%d/%m/%Y\") # transform to date object\n",
    "\n",
    "# scrape vaccinations\n",
    "vaccination_field = WebDriverWait(driver, 10).until(\n",
    "    EC.visibility_of_element_located((By.CSS_SELECTOR, \".col-lg-6:last-child td:last-child\"))\n",
    ")\n",
    "vaccinations = int(vaccination_field.get_attribute(\"innerText\").replace(\",\", \"\"))\n",
    "\n",
    "# check if data needs update\n",
    "if date > last_date:\n",
    "    print(\"This is new data — saving to file.\")\n",
    "    print(f\"{vaccination:,.0f} vaccinations as of {test:%B %d, %Y}.\")\n",
    "    \n",
    "    # save to file    \n",
    "    data.iloc[len(data)] = [date, vaccinations]\n",
    "    data.to_csv(\"data.csv\", index=False)\n",
    "    print(\"New data saved to file.\")\n",
    "    \n",
    "elif date == last_date:\n",
    "    print(\"This data has already been scraped.\")\n",
    "\n",
    "else:\n",
    "    print(\"An error seems to have occured — this data is from the past.\")\n",
    "\n",
    "driver.quit()\n",
    "# quit()"
   ]
  },
  {
   "cell_type": "code",
   "execution_count": null,
   "metadata": {},
   "outputs": [],
   "source": []
  }
 ],
 "metadata": {
  "kernelspec": {
   "display_name": "Python 3",
   "language": "python",
   "name": "python3"
  },
  "language_info": {
   "codemirror_mode": {
    "name": "ipython",
    "version": 3
   },
   "file_extension": ".py",
   "mimetype": "text/x-python",
   "name": "python",
   "nbconvert_exporter": "python",
   "pygments_lexer": "ipython3",
   "version": "3.9.0"
  }
 },
 "nbformat": 4,
 "nbformat_minor": 4
}
